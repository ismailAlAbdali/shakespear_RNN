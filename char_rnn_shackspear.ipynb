{
 "cells": [
  {
   "cell_type": "markdown",
   "id": "138508b3",
   "metadata": {
    "id": "e9f40699"
   },
   "source": [
    "## imports"
   ]
  },
  {
   "cell_type": "code",
   "execution_count": 1,
   "id": "75c53137",
   "metadata": {
    "executionInfo": {
     "elapsed": 4380,
     "status": "ok",
     "timestamp": 1679968651420,
     "user": {
      "displayName": "Ismail Alabdali",
      "userId": "00595816703033863117"
     },
     "user_tz": 240
    },
    "id": "600f40e5"
   },
   "outputs": [],
   "source": [
    "import tensorflow as tf\n",
    "from tensorflow import keras\n",
    "import numpy as np"
   ]
  },
  {
   "cell_type": "code",
   "execution_count": 8,
   "id": "970a173f",
   "metadata": {
    "executionInfo": {
     "elapsed": 397,
     "status": "ok",
     "timestamp": 1679968732437,
     "user": {
      "displayName": "Ismail Alabdali",
      "userId": "00595816703033863117"
     },
     "user_tz": 240
    },
    "id": "2719c114"
   },
   "outputs": [],
   "source": [
    "## let's read the text file\n",
    "filepath = \"/content/drive/MyDrive/Colab Notebooks/project3_rnn/tiny-shakespeare.txt\"\n",
    "with open(filepath) as file:\n",
    "    shake_text = file.read()"
   ]
  },
  {
   "cell_type": "code",
   "execution_count": 9,
   "id": "020dddab",
   "metadata": {
    "executionInfo": {
     "elapsed": 13,
     "status": "ok",
     "timestamp": 1679968733781,
     "user": {
      "displayName": "Ismail Alabdali",
      "userId": "00595816703033863117"
     },
     "user_tz": 240
    },
    "id": "adc8f26b"
   },
   "outputs": [],
   "source": [
    "#print(shake_text)"
   ]
  },
  {
   "cell_type": "code",
   "execution_count": 39,
   "id": "7677b55d",
   "metadata": {
    "executionInfo": {
     "elapsed": 713,
     "status": "ok",
     "timestamp": 1679969467968,
     "user": {
      "displayName": "Ismail Alabdali",
      "userId": "00595816703033863117"
     },
     "user_tz": 240
    },
    "id": "b027082a"
   },
   "outputs": [],
   "source": [
    "# lets encode every characeter in the text using keras tokeninzer\n",
    "\n",
    "tokenizer = keras.preprocessing.text.Tokenizer(char_level = True) # char level true for Char-CNN\n",
    "tokenizer.fit_on_texts([shake_text])"
   ]
  },
  {
   "cell_type": "code",
   "execution_count": 40,
   "id": "bc5f197e",
   "metadata": {
    "executionInfo": {
     "elapsed": 4,
     "status": "ok",
     "timestamp": 1679969469102,
     "user": {
      "displayName": "Ismail Alabdali",
      "userId": "00595816703033863117"
     },
     "user_tz": 240
    },
    "id": "6bea9fdb"
   },
   "outputs": [],
   "source": [
    "#tokenizer.get_config()"
   ]
  },
  {
   "cell_type": "markdown",
   "id": "ece6e1d5",
   "metadata": {
    "id": "0a40b946"
   },
   "source": [
    "#### covert from seq to text and text to seq"
   ]
  },
  {
   "cell_type": "code",
   "execution_count": 41,
   "id": "66e4bde9",
   "metadata": {
    "executionInfo": {
     "elapsed": 7,
     "status": "ok",
     "timestamp": 1679969469875,
     "user": {
      "displayName": "Ismail Alabdali",
      "userId": "00595816703033863117"
     },
     "user_tz": 240
    },
    "id": "2631bd99"
   },
   "outputs": [],
   "source": [
    "#tokenizer.texts_to_sequences([\"First\"])"
   ]
  },
  {
   "cell_type": "code",
   "execution_count": 42,
   "id": "d340adec",
   "metadata": {
    "executionInfo": {
     "elapsed": 8,
     "status": "ok",
     "timestamp": 1679969470049,
     "user": {
      "displayName": "Ismail Alabdali",
      "userId": "00595816703033863117"
     },
     "user_tz": 240
    },
    "id": "f9034416"
   },
   "outputs": [],
   "source": [
    "#tokenizer.sequences_to_texts([[20, 6, 9, 8, 3]])"
   ]
  },
  {
   "cell_type": "code",
   "execution_count": 43,
   "id": "8d83d361",
   "metadata": {
    "executionInfo": {
     "elapsed": 872,
     "status": "ok",
     "timestamp": 1679969471190,
     "user": {
      "displayName": "Ismail Alabdali",
      "userId": "00595816703033863117"
     },
     "user_tz": 240
    },
    "id": "56a10154"
   },
   "outputs": [],
   "source": [
    "# now that we have tokenized the text, let's encode the full text so that each character represented by it's id\n",
    "[encoded] = np.array(tokenizer.texts_to_sequences([shake_text])) - 1"
   ]
  },
  {
   "cell_type": "code",
   "execution_count": 44,
   "id": "d076c638",
   "metadata": {
    "colab": {
     "base_uri": "https://localhost:8080/"
    },
    "executionInfo": {
     "elapsed": 9,
     "status": "ok",
     "timestamp": 1679969471362,
     "user": {
      "displayName": "Ismail Alabdali",
      "userId": "00595816703033863117"
     },
     "user_tz": 240
    },
    "id": "629ea582",
    "outputId": "ec842c8f-f77b-49cd-fb94-cd272ea11faf"
   },
   "outputs": [
    {
     "data": {
      "text/plain": [
       "array([19,  5,  8, ..., 20, 26, 10])"
      ]
     },
     "execution_count": 44,
     "metadata": {},
     "output_type": "execute_result"
    }
   ],
   "source": [
    "encoded"
   ]
  },
  {
   "cell_type": "code",
   "execution_count": 45,
   "id": "ba1cb821",
   "metadata": {
    "executionInfo": {
     "elapsed": 8,
     "status": "ok",
     "timestamp": 1679969471364,
     "user": {
      "displayName": "Ismail Alabdali",
      "userId": "00595816703033863117"
     },
     "user_tz": 240
    },
    "id": "7f4bbf28"
   },
   "outputs": [],
   "source": [
    "# for e in dataset.take(10):\n",
    "#     print(e)\n",
    "max_id = np.max(encoded) + 1"
   ]
  },
  {
   "cell_type": "code",
   "execution_count": 46,
   "id": "3d26a85a",
   "metadata": {
    "colab": {
     "base_uri": "https://localhost:8080/"
    },
    "executionInfo": {
     "elapsed": 4,
     "status": "ok",
     "timestamp": 1679969472128,
     "user": {
      "displayName": "Ismail Alabdali",
      "userId": "00595816703033863117"
     },
     "user_tz": 240
    },
    "id": "25286c1f",
    "outputId": "baef2ed1-0522-4a0d-e46d-712f8b8732e4"
   },
   "outputs": [
    {
     "data": {
      "text/plain": [
       "(38, 0, 1115394)"
      ]
     },
     "execution_count": 46,
     "metadata": {},
     "output_type": "execute_result"
    }
   ],
   "source": [
    "np.max(encoded), np.min(encoded), len(encoded)"
   ]
  },
  {
   "cell_type": "code",
   "execution_count": 47,
   "id": "1ebd7e5c",
   "metadata": {
    "colab": {
     "base_uri": "https://localhost:8080/"
    },
    "executionInfo": {
     "elapsed": 144,
     "status": "ok",
     "timestamp": 1679969474261,
     "user": {
      "displayName": "Ismail Alabdali",
      "userId": "00595816703033863117"
     },
     "user_tz": 240
    },
    "id": "b1613204",
    "outputId": "1abb027f-76c0-4fe0-8365-3514f8351366"
   },
   "outputs": [
    {
     "data": {
      "text/plain": [
       "13500"
      ]
     },
     "execution_count": 47,
     "metadata": {},
     "output_type": "execute_result"
    }
   ],
   "source": [
    "15000 * 90 //100 # same as 15000 * (90 / 100)"
   ]
  },
  {
   "cell_type": "code",
   "execution_count": 62,
   "id": "65d57c40",
   "metadata": {
    "executionInfo": {
     "elapsed": 5,
     "status": "ok",
     "timestamp": 1679969711290,
     "user": {
      "displayName": "Ismail Alabdali",
      "userId": "00595816703033863117"
     },
     "user_tz": 240
    },
    "id": "zdvwXzkh_MAd"
   },
   "outputs": [],
   "source": [
    "dataset_size = 100"
   ]
  },
  {
   "cell_type": "code",
   "execution_count": 63,
   "id": "ec1508a7",
   "metadata": {
    "executionInfo": {
     "elapsed": 134,
     "status": "ok",
     "timestamp": 1679969713052,
     "user": {
      "displayName": "Ismail Alabdali",
      "userId": "00595816703033863117"
     },
     "user_tz": 240
    },
    "id": "49c8f75e"
   },
   "outputs": [],
   "source": [
    "train_size = len(encoded) * dataset_size // 100"
   ]
  },
  {
   "cell_type": "code",
   "execution_count": 64,
   "id": "f97f2d79",
   "metadata": {
    "colab": {
     "base_uri": "https://localhost:8080/"
    },
    "executionInfo": {
     "elapsed": 16,
     "status": "ok",
     "timestamp": 1679969714508,
     "user": {
      "displayName": "Ismail Alabdali",
      "userId": "00595816703033863117"
     },
     "user_tz": 240
    },
    "id": "QtDrPzPJ-_4S",
    "outputId": "f274324b-07e0-4a06-88f1-c3347e0585d4"
   },
   "outputs": [
    {
     "data": {
      "text/plain": [
       "1115394"
      ]
     },
     "execution_count": 64,
     "metadata": {},
     "output_type": "execute_result"
    }
   ],
   "source": [
    "train_size"
   ]
  },
  {
   "cell_type": "code",
   "execution_count": 59,
   "id": "5c582a9e",
   "metadata": {
    "executionInfo": {
     "elapsed": 138,
     "status": "ok",
     "timestamp": 1679969690183,
     "user": {
      "displayName": "Ismail Alabdali",
      "userId": "00595816703033863117"
     },
     "user_tz": 240
    },
    "id": "bc593cb3"
   },
   "outputs": [],
   "source": [
    "dataset_size = tokenizer.document_count"
   ]
  },
  {
   "cell_type": "code",
   "execution_count": 60,
   "id": "2be78596",
   "metadata": {
    "colab": {
     "base_uri": "https://localhost:8080/"
    },
    "executionInfo": {
     "elapsed": 135,
     "status": "ok",
     "timestamp": 1679969691242,
     "user": {
      "displayName": "Ismail Alabdali",
      "userId": "00595816703033863117"
     },
     "user_tz": 240
    },
    "id": "7cab9700",
    "outputId": "cff3896f-1d95-441a-c8c6-f3244774fa64"
   },
   "outputs": [
    {
     "data": {
      "text/plain": [
       "1"
      ]
     },
     "execution_count": 60,
     "metadata": {},
     "output_type": "execute_result"
    }
   ],
   "source": [
    "dataset_size"
   ]
  },
  {
   "cell_type": "code",
   "execution_count": 65,
   "id": "40cf146c",
   "metadata": {
    "executionInfo": {
     "elapsed": 117,
     "status": "ok",
     "timestamp": 1679969719019,
     "user": {
      "displayName": "Ismail Alabdali",
      "userId": "00595816703033863117"
     },
     "user_tz": 240
    },
    "id": "cf277902"
   },
   "outputs": [],
   "source": [
    "dataset = tf.data.Dataset.from_tensor_slices(encoded[:train_size])"
   ]
  },
  {
   "cell_type": "code",
   "execution_count": null,
   "id": "12ac2b83",
   "metadata": {
    "id": "fb47e166"
   },
   "outputs": [],
   "source": [
    "## now that we have got our train dataset, let;s chop our data into windows"
   ]
  },
  {
   "cell_type": "code",
   "execution_count": 66,
   "id": "82bd1d97",
   "metadata": {
    "executionInfo": {
     "elapsed": 5,
     "status": "ok",
     "timestamp": 1679969725687,
     "user": {
      "displayName": "Ismail Alabdali",
      "userId": "00595816703033863117"
     },
     "user_tz": 240
    },
    "id": "63b0c876"
   },
   "outputs": [],
   "source": [
    "# lets used the data windows method to convert the the long sequence of chars into smaller once\n",
    "n_steps = 100\n",
    "window_length = n_steps + 1 # the windows length would be 101\n",
    "dataset = dataset.window(window_length,shift = 1,drop_remainder=True) # creates nonoverlapping windows in our dataset such that\n",
    "# they go from 0-100 .. 1-101 .. 2-102"
   ]
  },
  {
   "cell_type": "code",
   "execution_count": 67,
   "id": "c068a404",
   "metadata": {
    "colab": {
     "base_uri": "https://localhost:8080/"
    },
    "executionInfo": {
     "elapsed": 11,
     "status": "ok",
     "timestamp": 1679969728223,
     "user": {
      "displayName": "Ismail Alabdali",
      "userId": "00595816703033863117"
     },
     "user_tz": 240
    },
    "id": "79bb04be",
    "outputId": "c998b623-b672-4ff3-a29b-7a4d4043900e"
   },
   "outputs": [
    {
     "name": "stderr",
     "output_type": "stream",
     "text": [
      "WARNING:tensorflow:From /usr/local/lib/python3.9/dist-packages/tensorflow/python/autograph/pyct/static_analysis/liveness.py:83: Analyzer.lamba_check (from tensorflow.python.autograph.pyct.static_analysis.liveness) is deprecated and will be removed after 2023-09-23.\n",
      "Instructions for updating:\n",
      "Lambda fuctions will be no more assumed to be used in the statement where they are used, or at least in the same block. https://github.com/tensorflow/tensorflow/issues/56089\n"
     ]
    }
   ],
   "source": [
    "# now let's convert the nested dataset into flat dataset\n",
    "dataset = dataset.flat_map(lambda window: window.batch(window_length))\n"
   ]
  },
  {
   "cell_type": "code",
   "execution_count": null,
   "id": "07d71ca4",
   "metadata": {
    "id": "e06ed9e8",
    "outputId": "fe748729-7c40-423e-d513-6b335989366a"
   },
   "outputs": [
    {
     "data": {
      "text/plain": [
       "<tensorflow.python.data.ops.dataset_ops._NumpyIterator at 0x1df6fdd2380>"
      ]
     },
     "execution_count": 54,
     "metadata": {},
     "output_type": "execute_result"
    }
   ],
   "source": [
    "dataset.as_numpy_iterator()"
   ]
  },
  {
   "cell_type": "code",
   "execution_count": 68,
   "id": "b9db5d68",
   "metadata": {
    "executionInfo": {
     "elapsed": 147,
     "status": "ok",
     "timestamp": 1679969745170,
     "user": {
      "displayName": "Ismail Alabdali",
      "userId": "00595816703033863117"
     },
     "user_tz": 240
    },
    "id": "831804f4"
   },
   "outputs": [],
   "source": [
    "np.random.seed(42)\n",
    "tf.random.set_seed(42)"
   ]
  },
  {
   "cell_type": "code",
   "execution_count": null,
   "id": "cd9431a6",
   "metadata": {
    "id": "db40c983"
   },
   "outputs": [],
   "source": [
    "#for e in dataset.take(100):\n",
    " #   print(e)"
   ]
  },
  {
   "cell_type": "markdown",
   "id": "3925041c",
   "metadata": {
    "id": "8d96097c"
   },
   "source": []
  },
  {
   "cell_type": "markdown",
   "id": "3d7feadf",
   "metadata": {
    "id": "908e7687"
   },
   "source": [
    "Machine leanring note: Gradient desent works best when when the instances of the training set are independent and identically distrubuted"
   ]
  },
  {
   "cell_type": "code",
   "execution_count": 69,
   "id": "a9ed58a5",
   "metadata": {
    "executionInfo": {
     "elapsed": 185,
     "status": "ok",
     "timestamp": 1679969747449,
     "user": {
      "displayName": "Ismail Alabdali",
      "userId": "00595816703033863117"
     },
     "user_tz": 240
    },
    "id": "eb7d1f62"
   },
   "outputs": [],
   "source": [
    "# lets use batches and batch our data\n",
    "batch_size = 32\n",
    "dataset = dataset.shuffle(10000).batch(batch_size)\n",
    "dataset = dataset.map(lambda windows : (windows[:,:-1], windows[:,1:]))"
   ]
  },
  {
   "cell_type": "code",
   "execution_count": null,
   "id": "cced543e",
   "metadata": {
    "id": "8b4165a6"
   },
   "outputs": [],
   "source": [
    "# for e in dataset.take(10):\n",
    "#     print(e)"
   ]
  },
  {
   "cell_type": "code",
   "execution_count": null,
   "id": "ee79e773",
   "metadata": {
    "id": "fbb6ea13"
   },
   "outputs": [],
   "source": []
  },
  {
   "cell_type": "code",
   "execution_count": 70,
   "id": "f358726a",
   "metadata": {
    "executionInfo": {
     "elapsed": 7,
     "status": "ok",
     "timestamp": 1679969749999,
     "user": {
      "displayName": "Ismail Alabdali",
      "userId": "00595816703033863117"
     },
     "user_tz": 240
    },
    "id": "26af167b"
   },
   "outputs": [],
   "source": [
    "# lets convert our data to one-hot\n",
    "dataset = dataset.map(lambda X_batch, Y_batch : (tf.one_hot(X_batch,depth = max_id), Y_batch))"
   ]
  },
  {
   "cell_type": "code",
   "execution_count": 71,
   "id": "d2da4b25",
   "metadata": {
    "executionInfo": {
     "elapsed": 13,
     "status": "ok",
     "timestamp": 1679969752073,
     "user": {
      "displayName": "Ismail Alabdali",
      "userId": "00595816703033863117"
     },
     "user_tz": 240
    },
    "id": "3e68180a"
   },
   "outputs": [],
   "source": [
    "dataset = dataset.prefetch(1)"
   ]
  },
  {
   "cell_type": "code",
   "execution_count": null,
   "id": "87863c50",
   "metadata": {
    "id": "a934e984"
   },
   "outputs": [],
   "source": [
    "# for e in dataset.take(3):\n",
    "#     print(e)"
   ]
  },
  {
   "cell_type": "code",
   "execution_count": 72,
   "id": "d351b839",
   "metadata": {
    "colab": {
     "base_uri": "https://localhost:8080/"
    },
    "executionInfo": {
     "elapsed": 2174,
     "status": "ok",
     "timestamp": 1679969755960,
     "user": {
      "displayName": "Ismail Alabdali",
      "userId": "00595816703033863117"
     },
     "user_tz": 240
    },
    "id": "592a253b",
    "outputId": "cd36d899-ec0e-4233-9266-13e877d815aa"
   },
   "outputs": [
    {
     "name": "stdout",
     "output_type": "stream",
     "text": [
      "(32, 100, 39) (32, 100)\n"
     ]
    }
   ],
   "source": [
    "for X_batch,Y_batch in dataset.take(1):\n",
    "    print(X_batch.shape,Y_batch.shape)"
   ]
  },
  {
   "cell_type": "markdown",
   "id": "f3777ac3",
   "metadata": {
    "id": "6f6aaffd"
   },
   "source": [
    "## lets train our model"
   ]
  },
  {
   "cell_type": "code",
   "execution_count": 87,
   "id": "aa1d101c",
   "metadata": {
    "executionInfo": {
     "elapsed": 293,
     "status": "ok",
     "timestamp": 1679972861825,
     "user": {
      "displayName": "Ismail Alabdali",
      "userId": "00595816703033863117"
     },
     "user_tz": 240
    },
    "id": "92ba8da4"
   },
   "outputs": [],
   "source": [
    "num_hidden_layers = 128\n",
    "model = keras.models.Sequential([\n",
    "    keras.layers.GRU(num_hidden_layers,return_sequences=True,input_shape = [None, max_id]),\n",
    "    keras.layers.GRU(num_hidden_layers,return_sequences = True),\n",
    "    keras.layers.TimeDistributed(keras.layers.Dense(max_id,activation=\"softmax\"))\n",
    "])"
   ]
  },
  {
   "cell_type": "code",
   "execution_count": 88,
   "id": "abbeb9ae",
   "metadata": {
    "executionInfo": {
     "elapsed": 516,
     "status": "ok",
     "timestamp": 1679972863835,
     "user": {
      "displayName": "Ismail Alabdali",
      "userId": "00595816703033863117"
     },
     "user_tz": 240
    },
    "id": "cb2d4d62"
   },
   "outputs": [],
   "source": [
    "model.compile(loss = \"sparse_categorical_crossentropy\", optimizer = \"adam\")"
   ]
  },
  {
   "cell_type": "code",
   "execution_count": 89,
   "id": "bcc96fbb",
   "metadata": {
    "colab": {
     "base_uri": "https://localhost:8080/"
    },
    "executionInfo": {
     "elapsed": 20,
     "status": "ok",
     "timestamp": 1679972866060,
     "user": {
      "displayName": "Ismail Alabdali",
      "userId": "00595816703033863117"
     },
     "user_tz": 240
    },
    "id": "027e51a3",
    "outputId": "9af01687-eead-4f83-c5d9-4acf1f6877ca"
   },
   "outputs": [
    {
     "name": "stdout",
     "output_type": "stream",
     "text": [
      "Model: \"sequential_2\"\n",
      "_________________________________________________________________\n",
      " Layer (type)                Output Shape              Param #   \n",
      "=================================================================\n",
      " gru_4 (GRU)                 (None, None, 128)         64896     \n",
      "                                                                 \n",
      " gru_5 (GRU)                 (None, None, 128)         99072     \n",
      "                                                                 \n",
      " time_distributed_2 (TimeDis  (None, None, 39)         5031      \n",
      " tributed)                                                       \n",
      "                                                                 \n",
      "=================================================================\n",
      "Total params: 168,999\n",
      "Trainable params: 168,999\n",
      "Non-trainable params: 0\n",
      "_________________________________________________________________\n"
     ]
    }
   ],
   "source": [
    "model.summary()"
   ]
  },
  {
   "cell_type": "code",
   "execution_count": null,
   "id": "c57048e2",
   "metadata": {
    "colab": {
     "background_save": true,
     "base_uri": "https://localhost:8080/"
    },
    "id": "3c1377ca"
   },
   "outputs": [
    {
     "name": "stdout",
     "output_type": "stream",
     "text": [
      "Epoch 1/15\n",
      "34853/34853 [==============================] - 505s 14ms/step - loss: 0.9550\n",
      "Epoch 2/15\n",
      "34853/34853 [==============================] - 505s 14ms/step - loss: 0.9794\n",
      "Epoch 3/15\n",
      "34853/34853 [==============================] - 505s 14ms/step - loss: 1.0406\n",
      "Epoch 4/15\n",
      "34853/34853 [==============================] - 497s 14ms/step - loss: 1.0884\n",
      "Epoch 5/15\n",
      "34853/34853 [==============================] - 488s 14ms/step - loss: 1.1237\n",
      "Epoch 6/15\n",
      "34853/34853 [==============================] - 534s 15ms/step - loss: 1.1623\n",
      "Epoch 7/15\n",
      "34853/34853 [==============================] - 575s 16ms/step - loss: 1.1936\n",
      "Epoch 8/15\n",
      "34853/34853 [==============================] - 495s 14ms/step - loss: 1.2141\n",
      "Epoch 9/15\n",
      "34853/34853 [==============================] - 496s 14ms/step - loss: 1.2374\n",
      "Epoch 10/15\n",
      "34853/34853 [==============================] - 505s 14ms/step - loss: 1.2533\n",
      "Epoch 11/15\n",
      "34853/34853 [==============================] - 492s 14ms/step - loss: 1.2624\n",
      "Epoch 12/15\n",
      "34853/34853 [==============================] - 580s 17ms/step - loss: 1.2840\n",
      "Epoch 13/15\n",
      "34853/34853 [==============================] - 482s 14ms/step - loss: 1.2910\n",
      "Epoch 14/15\n",
      "34853/34853 [==============================] - 459s 13ms/step - loss: 1.2995\n",
      "Epoch 15/15\n",
      "34853/34853 [==============================] - 458s 13ms/step - loss: 1.3131\n"
     ]
    }
   ],
   "source": [
    "trained_RNN = model.fit(dataset,epochs=15)"
   ]
  },
  {
   "cell_type": "code",
   "execution_count": null,
   "id": "d0e4893c",
   "metadata": {
    "colab": {
     "background_save": true
    },
    "id": "iwHnSvDfLP26"
   },
   "outputs": [
    {
     "name": "stderr",
     "output_type": "stream",
     "text": [
      "WARNING:absl:Found untraced functions such as gru_cell_6_layer_call_fn, gru_cell_6_layer_call_and_return_conditional_losses, gru_cell_7_layer_call_fn, gru_cell_7_layer_call_and_return_conditional_losses while saving (showing 4 of 4). These functions will not be directly callable after loading.\n"
     ]
    }
   ],
   "source": [
    "model.save(\"/content/drive/MyDrive/cs460g/project3/128_15_ep_char_rnn_shakespear_model\")"
   ]
  },
  {
   "cell_type": "code",
   "execution_count": null,
   "id": "ff960963",
   "metadata": {
    "colab": {
     "background_save": true
    },
    "id": "LpRKyiAXBVXa"
   },
   "outputs": [],
   "source": [
    "### Loss:\n",
    "loss_history = trained_RNN.history[\"loss\"]"
   ]
  },
  {
   "cell_type": "code",
   "execution_count": null,
   "id": "59dad571",
   "metadata": {
    "colab": {
     "background_save": true
    },
    "id": "W0VrZnCAJ_-F"
   },
   "outputs": [
    {
     "data": {
      "image/png": "[encoded data removed]",
      "text/plain": [
       "<Figure size 432x288 with 1 Axes>"
      ]
     },
     "metadata": {},
     "output_type": "display_data"
    }
   ],
   "source": [
    "from matplotlib import pyplot as plt\n",
    "plt.plot(loss_history)\n",
    "plt.title(\"Model Loss\")\n",
    "plt.xlabel(\"Epoch\")\n",
    "plt.ylabel(\"Loss\")\n",
    "plt.show()"
   ]
  },
  {
   "cell_type": "markdown",
   "id": "24c6d4a3",
   "metadata": {
    "id": "014c03b7"
   },
   "source": [
    "### lets check if we can use GPU"
   ]
  },
  {
   "cell_type": "code",
   "execution_count": null,
   "id": "4a604947",
   "metadata": {
    "id": "6566ce29"
   },
   "outputs": [],
   "source": [
    "tf.config.list_physical_devices()"
   ]
  },
  {
   "cell_type": "code",
   "execution_count": 17,
   "id": "00d93e39",
   "metadata": {
    "executionInfo": {
     "elapsed": 171,
     "status": "ok",
     "timestamp": 1679968749910,
     "user": {
      "displayName": "Ismail Alabdali",
      "userId": "00595816703033863117"
     },
     "user_tz": 240
    },
    "id": "f07b5512"
   },
   "outputs": [],
   "source": [
    "## let's try predicting\n",
    "\n",
    "def preprocess(text):\n",
    "    tokenize =  np.array(tokenizer.texts_to_sequences(text)) - 1\n",
    "    return tf.one_hot(tokenize,max_id)\n"
   ]
  },
  {
   "cell_type": "code",
   "execution_count": 18,
   "id": "69dd75be",
   "metadata": {
    "colab": {
     "base_uri": "https://localhost:8080/"
    },
    "executionInfo": {
     "elapsed": 7,
     "status": "ok",
     "timestamp": 1679968751620,
     "user": {
      "displayName": "Ismail Alabdali",
      "userId": "00595816703033863117"
     },
     "user_tz": 240
    },
    "id": "90e5fb94",
    "outputId": "c361f327-0caf-438a-e2e6-fbca6ada3d5c"
   },
   "outputs": [
    {
     "data": {
      "text/plain": [
       "<tf.Tensor: shape=(1, 10, 39), dtype=float32, numpy=\n",
       "array([[[0., 0., 0., 0., 0., 0., 1., 0., 0., 0., 0., 0., 0., 0., 0., 0.,\n",
       "         0., 0., 0., 0., 0., 0., 0., 0., 0., 0., 0., 0., 0., 0., 0., 0.,\n",
       "         0., 0., 0., 0., 0., 0., 0.],\n",
       "        [0., 0., 0., 1., 0., 0., 0., 0., 0., 0., 0., 0., 0., 0., 0., 0.,\n",
       "         0., 0., 0., 0., 0., 0., 0., 0., 0., 0., 0., 0., 0., 0., 0., 0.,\n",
       "         0., 0., 0., 0., 0., 0., 0.],\n",
       "        [0., 0., 0., 0., 0., 0., 0., 0., 0., 0., 0., 0., 0., 0., 0., 0.,\n",
       "         1., 0., 0., 0., 0., 0., 0., 0., 0., 0., 0., 0., 0., 0., 0., 0.,\n",
       "         0., 0., 0., 0., 0., 0., 0.],\n",
       "        [1., 0., 0., 0., 0., 0., 0., 0., 0., 0., 0., 0., 0., 0., 0., 0.,\n",
       "         0., 0., 0., 0., 0., 0., 0., 0., 0., 0., 0., 0., 0., 0., 0., 0.,\n",
       "         0., 0., 0., 0., 0., 0., 0.],\n",
       "        [0., 0., 0., 0., 1., 0., 0., 0., 0., 0., 0., 0., 0., 0., 0., 0.,\n",
       "         0., 0., 0., 0., 0., 0., 0., 0., 0., 0., 0., 0., 0., 0., 0., 0.,\n",
       "         0., 0., 0., 0., 0., 0., 0.],\n",
       "        [0., 0., 0., 0., 0., 0., 0., 0., 1., 0., 0., 0., 0., 0., 0., 0.,\n",
       "         0., 0., 0., 0., 0., 0., 0., 0., 0., 0., 0., 0., 0., 0., 0., 0.,\n",
       "         0., 0., 0., 0., 0., 0., 0.],\n",
       "        [0., 1., 0., 0., 0., 0., 0., 0., 0., 0., 0., 0., 0., 0., 0., 0.,\n",
       "         0., 0., 0., 0., 0., 0., 0., 0., 0., 0., 0., 0., 0., 0., 0., 0.,\n",
       "         0., 0., 0., 0., 0., 0., 0.],\n",
       "        [1., 0., 0., 0., 0., 0., 0., 0., 0., 0., 0., 0., 0., 0., 0., 0.,\n",
       "         0., 0., 0., 0., 0., 0., 0., 0., 0., 0., 0., 0., 0., 0., 0., 0.,\n",
       "         0., 0., 0., 0., 0., 0., 0.],\n",
       "        [0., 0., 0., 0., 0., 0., 0., 0., 0., 0., 0., 0., 0., 0., 0., 1.,\n",
       "         0., 0., 0., 0., 0., 0., 0., 0., 0., 0., 0., 0., 0., 0., 0., 0.,\n",
       "         0., 0., 0., 0., 0., 0., 0.],\n",
       "        [0., 0., 0., 1., 0., 0., 0., 0., 0., 0., 0., 0., 0., 0., 0., 0.,\n",
       "         0., 0., 0., 0., 0., 0., 0., 0., 0., 0., 0., 0., 0., 0., 0., 0.,\n",
       "         0., 0., 0., 0., 0., 0., 0.]]], dtype=float32)>"
      ]
     },
     "execution_count": 18,
     "metadata": {},
     "output_type": "execute_result"
    }
   ],
   "source": [
    "x_new = preprocess([\"How are yo\"])\n",
    "x_new"
   ]
  },
  {
   "cell_type": "code",
   "execution_count": 19,
   "id": "9b9066bd",
   "metadata": {
    "colab": {
     "base_uri": "https://localhost:8080/",
     "height": 187
    },
    "executionInfo": {
     "elapsed": 184,
     "status": "error",
     "timestamp": 1679968753521,
     "user": {
      "displayName": "Ismail Alabdali",
      "userId": "00595816703033863117"
     },
     "user_tz": 240
    },
    "id": "7888a3c4",
    "outputId": "4316dd70-c811-467e-a559-77e79821719b"
   },
   "outputs": [
    {
     "ename": "NameError",
     "evalue": "ignored",
     "output_type": "error",
     "traceback": [
      "\u001b[0;31m---------------------------------------------------------------------------\u001b[0m",
      "\u001b[0;31mNameError\u001b[0m                                 Traceback (most recent call last)",
      "\u001b[0;32m<ipython-input-19-d0f077bc4989>\u001b[0m in \u001b[0;36m<module>\u001b[0;34m\u001b[0m\n\u001b[0;32m----> 1\u001b[0;31m \u001b[0my_pred\u001b[0m \u001b[0;34m=\u001b[0m \u001b[0mnp\u001b[0m\u001b[0;34m.\u001b[0m\u001b[0margmax\u001b[0m\u001b[0;34m(\u001b[0m\u001b[0mmodel\u001b[0m\u001b[0;34m.\u001b[0m\u001b[0mpredict\u001b[0m\u001b[0;34m(\u001b[0m\u001b[0mx_new\u001b[0m\u001b[0;34m)\u001b[0m\u001b[0;34m,\u001b[0m \u001b[0maxis\u001b[0m \u001b[0;34m=\u001b[0m \u001b[0;36m1\u001b[0m\u001b[0;34m)\u001b[0m\u001b[0;34m\u001b[0m\u001b[0;34m\u001b[0m\u001b[0m\n\u001b[0m\u001b[1;32m      2\u001b[0m \u001b[0my_pred\u001b[0m\u001b[0;34m\u001b[0m\u001b[0;34m\u001b[0m\u001b[0m\n",
      "\u001b[0;31mNameError\u001b[0m: name 'model' is not defined"
     ]
    }
   ],
   "source": [
    "y_pred = np.argmax(model.predict(x_new), axis = 1)\n",
    "y_pred"
   ]
  },
  {
   "cell_type": "code",
   "execution_count": null,
   "id": "1e737383",
   "metadata": {
    "id": "2524de36",
    "outputId": "2a3dd6ca-142b-4f5e-ef4d-d052437e73ce"
   },
   "outputs": [
    {
     "data": {
      "text/plain": [
       "' '"
      ]
     },
     "execution_count": 73,
     "metadata": {},
     "output_type": "execute_result"
    }
   ],
   "source": [
    "tokenizer.sequences_to_texts(y_pred + 1)[0][-1]"
   ]
  },
  {
   "cell_type": "code",
   "execution_count": 20,
   "id": "7941b799",
   "metadata": {
    "executionInfo": {
     "elapsed": 173,
     "status": "ok",
     "timestamp": 1679968761208,
     "user": {
      "displayName": "Ismail Alabdali",
      "userId": "00595816703033863117"
     },
     "user_tz": 240
    },
    "id": "7da70efd"
   },
   "outputs": [],
   "source": [
    "def next_char(model,text, temperature = 1):\n",
    "    x_new = preprocess([text])\n",
    "    y_proba = model.predict(x_new)[0,-1:,:]\n",
    "    rescaled_logits = tf.math.log(y_proba) / temperature\n",
    "    char_id = tf.random.categorical(rescaled_logits,num_samples=1) + 1\n",
    "    return tokenizer.sequences_to_texts(char_id.numpy())[0]"
   ]
  },
  {
   "cell_type": "code",
   "execution_count": 21,
   "id": "830062d4",
   "metadata": {
    "executionInfo": {
     "elapsed": 7,
     "status": "ok",
     "timestamp": 1679968762014,
     "user": {
      "displayName": "Ismail Alabdali",
      "userId": "00595816703033863117"
     },
     "user_tz": 240
    },
    "id": "0ea6e512"
   },
   "outputs": [],
   "source": [
    "def complete_text(model,text, n_chars = 50,temperature = 1):\n",
    "    for _ in range(n_chars):\n",
    "        text += next_char(model,text,temperature)\n",
    "    return text"
   ]
  },
  {
   "cell_type": "code",
   "execution_count": 22,
   "id": "0eaffe82",
   "metadata": {
    "colab": {
     "base_uri": "https://localhost:8080/",
     "height": 169
    },
    "executionInfo": {
     "elapsed": 13,
     "status": "error",
     "timestamp": 1679968764135,
     "user": {
      "displayName": "Ismail Alabdali",
      "userId": "00595816703033863117"
     },
     "user_tz": 240
    },
    "id": "1a65f908",
    "outputId": "253a706c-6805-4c65-89c7-1c491824a3dd"
   },
   "outputs": [
    {
     "ename": "TypeError",
     "evalue": "ignored",
     "output_type": "error",
     "traceback": [
      "\u001b[0;31m---------------------------------------------------------------------------\u001b[0m",
      "\u001b[0;31mTypeError\u001b[0m                                 Traceback (most recent call last)",
      "\u001b[0;32m<ipython-input-22-9e47fefde85e>\u001b[0m in \u001b[0;36m<module>\u001b[0;34m\u001b[0m\n\u001b[0;32m----> 1\u001b[0;31m \u001b[0mprint\u001b[0m\u001b[0;34m(\u001b[0m\u001b[0mcomplete_text\u001b[0m\u001b[0;34m(\u001b[0m\u001b[0;34m\"Queen\"\u001b[0m\u001b[0;34m,\u001b[0m\u001b[0mn_chars\u001b[0m\u001b[0;34m=\u001b[0m\u001b[0;36m5\u001b[0m\u001b[0;34m,\u001b[0m\u001b[0mtemperature\u001b[0m\u001b[0;34m=\u001b[0m\u001b[0;36m0.4\u001b[0m\u001b[0;34m)\u001b[0m\u001b[0;34m)\u001b[0m\u001b[0;34m\u001b[0m\u001b[0;34m\u001b[0m\u001b[0m\n\u001b[0m",
      "\u001b[0;31mTypeError\u001b[0m: complete_text() missing 1 required positional argument: 'text'"
     ]
    }
   ],
   "source": [
    "print(complete_text(\"Queen\",n_chars=5,temperature=0.4))"
   ]
  },
  {
   "cell_type": "code",
   "execution_count": null,
   "id": "c3b35a89",
   "metadata": {
    "id": "375534b9",
    "outputId": "9becd5db-4c13-44fe-9736-8a301d736652"
   },
   "outputs": [
    {
     "name": "stdout",
     "output_type": "stream",
     "text": [
      "34857/34857 [==============================] - 142s 4ms/step\n",
      "34857/34857 [==============================] - 135s 4ms/step\n",
      "34857/34857 [==============================] - 140s 4ms/step\n",
      "34857/34857 [==============================] - 147s 4ms/step\n",
      "34857/34857 [==============================] - 145s 4ms/step\n",
      "wo a a\n"
     ]
    }
   ],
   "source": [
    "print(complete_text(\"w\",n_chars=5,temperature=1))"
   ]
  },
  {
   "cell_type": "code",
   "execution_count": null,
   "id": "f52023e4",
   "metadata": {
    "id": "fb62aba9",
    "outputId": "3b28109d-7c9e-4ea1-f76f-ea1d672606c6"
   },
   "outputs": [
    {
     "name": "stderr",
     "output_type": "stream",
     "text": [
      "WARNING:absl:Found untraced functions such as gru_cell_12_layer_call_fn, gru_cell_12_layer_call_and_return_conditional_losses, gru_cell_13_layer_call_fn, gru_cell_13_layer_call_and_return_conditional_losses while saving (showing 4 of 4). These functions will not be directly callable after loading.\n"
     ]
    },
    {
     "name": "stdout",
     "output_type": "stream",
     "text": [
      "INFO:tensorflow:Assets written to: 128_2_hidden_GRU_Shackspear_model\\assets\n"
     ]
    },
    {
     "name": "stderr",
     "output_type": "stream",
     "text": [
      "INFO:tensorflow:Assets written to: 128_2_hidden_GRU_Shackspear_model\\assets\n"
     ]
    }
   ],
   "source": [
    "model.save(\"128_2_hidden_GRU_Shackspear_model\")"
   ]
  },
  {
   "cell_type": "markdown",
   "id": "e2de7d9b",
   "metadata": {
    "id": "00665fb4"
   },
   "source": [
    "### loading the trained model"
   ]
  },
  {
   "cell_type": "code",
   "execution_count": 3,
   "id": "84fd1583",
   "metadata": {
    "colab": {
     "base_uri": "https://localhost:8080/",
     "height": 336
    },
    "executionInfo": {
     "elapsed": 397,
     "status": "error",
     "timestamp": 1679954072091,
     "user": {
      "displayName": "Ismail Alabdali",
      "userId": "00595816703033863117"
     },
     "user_tz": 240
    },
    "id": "86125f93",
    "outputId": "82cd4a69-f6b7-4215-db72-205fcc1fd636"
   },
   "outputs": [
    {
     "ename": "OSError",
     "evalue": "ignored",
     "output_type": "error",
     "traceback": [
      "\u001b[0;31m---------------------------------------------------------------------------\u001b[0m",
      "\u001b[0;31mOSError\u001b[0m                                   Traceback (most recent call last)",
      "\u001b[0;32m<ipython-input-3-d07950c5933a>\u001b[0m in \u001b[0;36m<module>\u001b[0;34m\u001b[0m\n\u001b[0;32m----> 1\u001b[0;31m \u001b[0mloaded_model\u001b[0m \u001b[0;34m=\u001b[0m \u001b[0mtf\u001b[0m\u001b[0;34m.\u001b[0m\u001b[0mkeras\u001b[0m\u001b[0;34m.\u001b[0m\u001b[0mmodels\u001b[0m\u001b[0;34m.\u001b[0m\u001b[0mload_model\u001b[0m\u001b[0;34m(\u001b[0m\u001b[0;34m\"128_2_hidden_GRU_Shackspear_model\"\u001b[0m\u001b[0;34m)\u001b[0m\u001b[0;34m\u001b[0m\u001b[0;34m\u001b[0m\u001b[0m\n\u001b[0m",
      "\u001b[0;32m/usr/local/lib/python3.9/dist-packages/keras/utils/traceback_utils.py\u001b[0m in \u001b[0;36merror_handler\u001b[0;34m(*args, **kwargs)\u001b[0m\n\u001b[1;32m     68\u001b[0m             \u001b[0;31m# To get the full stack trace, call:\u001b[0m\u001b[0;34m\u001b[0m\u001b[0;34m\u001b[0m\u001b[0m\n\u001b[1;32m     69\u001b[0m             \u001b[0;31m# `tf.debugging.disable_traceback_filtering()`\u001b[0m\u001b[0;34m\u001b[0m\u001b[0;34m\u001b[0m\u001b[0m\n\u001b[0;32m---> 70\u001b[0;31m             \u001b[0;32mraise\u001b[0m \u001b[0me\u001b[0m\u001b[0;34m.\u001b[0m\u001b[0mwith_traceback\u001b[0m\u001b[0;34m(\u001b[0m\u001b[0mfiltered_tb\u001b[0m\u001b[0;34m)\u001b[0m \u001b[0;32mfrom\u001b[0m \u001b[0;32mNone\u001b[0m\u001b[0;34m\u001b[0m\u001b[0;34m\u001b[0m\u001b[0m\n\u001b[0m\u001b[1;32m     71\u001b[0m         \u001b[0;32mfinally\u001b[0m\u001b[0;34m:\u001b[0m\u001b[0;34m\u001b[0m\u001b[0;34m\u001b[0m\u001b[0m\n\u001b[1;32m     72\u001b[0m             \u001b[0;32mdel\u001b[0m \u001b[0mfiltered_tb\u001b[0m\u001b[0;34m\u001b[0m\u001b[0;34m\u001b[0m\u001b[0m\n",
      "\u001b[0;32m/usr/local/lib/python3.9/dist-packages/keras/saving/legacy/save.py\u001b[0m in \u001b[0;36mload_model\u001b[0;34m(filepath, custom_objects, compile, options)\u001b[0m\n\u001b[1;32m    225\u001b[0m                 \u001b[0;32mif\u001b[0m \u001b[0misinstance\u001b[0m\u001b[0;34m(\u001b[0m\u001b[0mfilepath_str\u001b[0m\u001b[0;34m,\u001b[0m \u001b[0mstr\u001b[0m\u001b[0;34m)\u001b[0m\u001b[0;34m:\u001b[0m\u001b[0;34m\u001b[0m\u001b[0;34m\u001b[0m\u001b[0m\n\u001b[1;32m    226\u001b[0m                     \u001b[0;32mif\u001b[0m \u001b[0;32mnot\u001b[0m \u001b[0mtf\u001b[0m\u001b[0;34m.\u001b[0m\u001b[0mio\u001b[0m\u001b[0;34m.\u001b[0m\u001b[0mgfile\u001b[0m\u001b[0;34m.\u001b[0m\u001b[0mexists\u001b[0m\u001b[0;34m(\u001b[0m\u001b[0mfilepath_str\u001b[0m\u001b[0;34m)\u001b[0m\u001b[0;34m:\u001b[0m\u001b[0;34m\u001b[0m\u001b[0;34m\u001b[0m\u001b[0m\n\u001b[0;32m--> 227\u001b[0;31m                         raise IOError(\n\u001b[0m\u001b[1;32m    228\u001b[0m                             \u001b[0;34mf\"No file or directory found at {filepath_str}\"\u001b[0m\u001b[0;34m\u001b[0m\u001b[0;34m\u001b[0m\u001b[0m\n\u001b[1;32m    229\u001b[0m                         )\n",
      "\u001b[0;31mOSError\u001b[0m: No file or directory found at 128_2_hidden_GRU_Shackspear_model"
     ]
    }
   ],
   "source": []
  },
  {
   "cell_type": "code",
   "execution_count": 4,
   "id": "6635d3a6",
   "metadata": {
    "colab": {
     "base_uri": "https://localhost:8080/"
    },
    "executionInfo": {
     "elapsed": 21591,
     "status": "ok",
     "timestamp": 1679968697019,
     "user": {
      "displayName": "Ismail Alabdali",
      "userId": "00595816703033863117"
     },
     "user_tz": 240
    },
    "id": "S9RCu6RtEQZ9",
    "outputId": "d8d0e48b-8344-4586-ecf9-4caa9a793fd5"
   },
   "outputs": [
    {
     "name": "stdout",
     "output_type": "stream",
     "text": [
      "Mounted at /content/drive\n"
     ]
    }
   ],
   "source": [
    "from google.colab import drive\n",
    "drive.mount('/content/drive')"
   ]
  },
  {
   "cell_type": "code",
   "execution_count": 5,
   "id": "2f411f28",
   "metadata": {
    "executionInfo": {
     "elapsed": 9351,
     "status": "ok",
     "timestamp": 1679968706358,
     "user": {
      "displayName": "Ismail Alabdali",
      "userId": "00595816703033863117"
     },
     "user_tz": 240
    },
    "id": "Oyvs-2XyD6dU"
   },
   "outputs": [],
   "source": [
    "loaded_model = tf.keras.models.load_model(\"/content/drive/MyDrive/Colab Notebooks/project3_rnn/128_2_hidden_GRU_Shackspear_model\")"
   ]
  },
  {
   "cell_type": "code",
   "execution_count": 6,
   "id": "2fd94730",
   "metadata": {
    "colab": {
     "base_uri": "https://localhost:8080/"
    },
    "executionInfo": {
     "elapsed": 25,
     "status": "ok",
     "timestamp": 1679968706361,
     "user": {
      "displayName": "Ismail Alabdali",
      "userId": "00595816703033863117"
     },
     "user_tz": 240
    },
    "id": "5150c86f",
    "outputId": "62fe8310-f1cd-4195-a2e5-bc22d3d49261"
   },
   "outputs": [
    {
     "name": "stdout",
     "output_type": "stream",
     "text": [
      "Found GPU at: /device:GPU:0\n"
     ]
    }
   ],
   "source": [
    "### Check if we have GPU\n",
    "import tensorflow as tf\n",
    "device_name = tf.test.gpu_device_name()\n",
    "if device_name != '/device:GPU:0':\n",
    "  raise SystemError('GPU device not found')\n",
    "print('Found GPU at: {}'.format(device_name))"
   ]
  },
  {
   "cell_type": "code",
   "execution_count": 6,
   "id": "f653898e",
   "metadata": {
    "colab": {
     "base_uri": "https://localhost:8080/"
    },
    "executionInfo": {
     "elapsed": 17707,
     "status": "ok",
     "timestamp": 1679954193489,
     "user": {
      "displayName": "Ismail Alabdali",
      "userId": "00595816703033863117"
     },
     "user_tz": 240
    },
    "id": "wNLOwvCdEly9",
    "outputId": "0d1ccdc1-fffc-4c7e-f567-7a9b6b7227e9"
   },
   "outputs": [
    {
     "name": "stdout",
     "output_type": "stream",
     "text": [
      "Time (s) to convolve 32x7x7x3 filter over random 100x100x100x3 images (batch x height x width x channel). Sum of ten runs.\n",
      "CPU (s):\n",
      "6.343770006\n",
      "GPU (s):\n",
      "0.09363167000000772\n",
      "GPU speedup over CPU: 67x\n"
     ]
    }
   ],
   "source": [
    "import tensorflow as tf\n",
    "import timeit\n",
    "\n",
    "device_name = tf.test.gpu_device_name()\n",
    "if device_name != '/device:GPU:0':\n",
    "  print(\n",
    "      '\\n\\nThis error most likely means that this notebook is not '\n",
    "      'configured to use a GPU.  Change this in Notebook Settings via the '\n",
    "      'command palette (cmd/ctrl-shift-P) or the Edit menu.\\n\\n')\n",
    "  raise SystemError('GPU device not found')\n",
    "\n",
    "def cpu():\n",
    "  with tf.device('/cpu:0'):\n",
    "    random_image_cpu = tf.random.normal((100, 100, 100, 3))\n",
    "    net_cpu = tf.keras.layers.Conv2D(32, 7)(random_image_cpu)\n",
    "    return tf.math.reduce_sum(net_cpu)\n",
    "\n",
    "def gpu():\n",
    "  with tf.device('/device:GPU:0'):\n",
    "    random_image_gpu = tf.random.normal((100, 100, 100, 3))\n",
    "    net_gpu = tf.keras.layers.Conv2D(32, 7)(random_image_gpu)\n",
    "    return tf.math.reduce_sum(net_gpu)\n",
    "  \n",
    "# We run each op once to warm up; see: https://stackoverflow.com/a/45067900\n",
    "cpu()\n",
    "gpu()\n",
    "\n",
    "# Run the op several times.\n",
    "print('Time (s) to convolve 32x7x7x3 filter over random 100x100x100x3 images '\n",
    "      '(batch x height x width x channel). Sum of ten runs.')\n",
    "print('CPU (s):')\n",
    "cpu_time = timeit.timeit('cpu()', number=10, setup=\"from __main__ import cpu\")\n",
    "print(cpu_time)\n",
    "print('GPU (s):')\n",
    "gpu_time = timeit.timeit('gpu()', number=10, setup=\"from __main__ import gpu\")\n",
    "print(gpu_time)\n",
    "print('GPU speedup over CPU: {}x'.format(int(cpu_time/gpu_time)))"
   ]
  },
  {
   "cell_type": "code",
   "execution_count": 23,
   "id": "0d56f5e5",
   "metadata": {
    "colab": {
     "base_uri": "https://localhost:8080/"
    },
    "executionInfo": {
     "elapsed": 12833,
     "status": "ok",
     "timestamp": 1679968786623,
     "user": {
      "displayName": "Ismail Alabdali",
      "userId": "00595816703033863117"
     },
     "user_tz": 240
    },
    "id": "RGEZ0bP_EmRE",
    "outputId": "d7b02281-c20a-4263-9ca8-c62580a5b5b3"
   },
   "outputs": [
    {
     "name": "stdout",
     "output_type": "stream",
     "text": [
      "1/1 [==============================] - 5s 5s/step\n",
      "1/1 [==============================] - 1s 699ms/step\n",
      "1/1 [==============================] - 0s 20ms/step\n",
      "1/1 [==============================] - 0s 23ms/step\n",
      "1/1 [==============================] - 0s 30ms/step\n",
      "1/1 [==============================] - 0s 21ms/step\n",
      "1/1 [==============================] - 0s 22ms/step\n",
      "1/1 [==============================] - 0s 22ms/step\n",
      "1/1 [==============================] - 0s 21ms/step\n",
      "1/1 [==============================] - 0s 21ms/step\n",
      "1/1 [==============================] - 0s 21ms/step\n",
      "1/1 [==============================] - 0s 24ms/step\n",
      "1/1 [==============================] - 0s 21ms/step\n",
      "1/1 [==============================] - 0s 20ms/step\n",
      "1/1 [==============================] - 0s 24ms/step\n",
      "1/1 [==============================] - 0s 21ms/step\n",
      "1/1 [==============================] - 0s 40ms/step\n",
      "1/1 [==============================] - 0s 22ms/step\n",
      "1/1 [==============================] - 0s 27ms/step\n",
      "1/1 [==============================] - 0s 25ms/step\n",
      "1/1 [==============================] - 0s 21ms/step\n",
      "1/1 [==============================] - 0s 21ms/step\n",
      "1/1 [==============================] - 0s 22ms/step\n",
      "1/1 [==============================] - 0s 25ms/step\n",
      "1/1 [==============================] - 0s 24ms/step\n",
      "1/1 [==============================] - 0s 25ms/step\n",
      "1/1 [==============================] - 0s 23ms/step\n",
      "1/1 [==============================] - 0s 22ms/step\n",
      "1/1 [==============================] - 0s 22ms/step\n",
      "1/1 [==============================] - 0s 22ms/step\n",
      "1/1 [==============================] - 0s 21ms/step\n",
      "1/1 [==============================] - 0s 20ms/step\n",
      "1/1 [==============================] - 0s 21ms/step\n",
      "1/1 [==============================] - 0s 25ms/step\n",
      "1/1 [==============================] - 0s 21ms/step\n",
      "1/1 [==============================] - 0s 27ms/step\n",
      "1/1 [==============================] - 0s 22ms/step\n",
      "1/1 [==============================] - 0s 22ms/step\n",
      "1/1 [==============================] - 0s 21ms/step\n",
      "1/1 [==============================] - 0s 22ms/step\n",
      "1/1 [==============================] - 0s 25ms/step\n",
      "1/1 [==============================] - 0s 23ms/step\n",
      "1/1 [==============================] - 0s 23ms/step\n",
      "1/1 [==============================] - 0s 24ms/step\n",
      "1/1 [==============================] - 0s 27ms/step\n",
      "1/1 [==============================] - 0s 21ms/step\n",
      "1/1 [==============================] - 0s 22ms/step\n",
      "1/1 [==============================] - 0s 23ms/step\n",
      "1/1 [==============================] - 0s 22ms/step\n",
      "1/1 [==============================] - 0s 25ms/step\n",
      "1/1 [==============================] - 0s 25ms/step\n",
      "1/1 [==============================] - 0s 26ms/step\n",
      "1/1 [==============================] - 0s 22ms/step\n",
      "1/1 [==============================] - 0s 28ms/step\n",
      "1/1 [==============================] - 0s 21ms/step\n",
      "1/1 [==============================] - 0s 23ms/step\n",
      "1/1 [==============================] - 0s 28ms/step\n",
      "1/1 [==============================] - 0s 22ms/step\n",
      "1/1 [==============================] - 0s 24ms/step\n",
      "1/1 [==============================] - 0s 21ms/step\n",
      "1/1 [==============================] - 0s 21ms/step\n",
      "1/1 [==============================] - 0s 21ms/step\n",
      "1/1 [==============================] - 0s 21ms/step\n",
      "1/1 [==============================] - 0s 21ms/step\n",
      "1/1 [==============================] - 0s 21ms/step\n",
      "1/1 [==============================] - 0s 23ms/step\n",
      "1/1 [==============================] - 0s 23ms/step\n",
      "1/1 [==============================] - 0s 22ms/step\n",
      "1/1 [==============================] - 0s 22ms/step\n",
      "1/1 [==============================] - 0s 28ms/step\n",
      "1/1 [==============================] - 0s 23ms/step\n",
      "1/1 [==============================] - 0s 23ms/step\n",
      "1/1 [==============================] - 0s 24ms/step\n",
      "1/1 [==============================] - 0s 25ms/step\n",
      "1/1 [==============================] - 0s 21ms/step\n",
      "1/1 [==============================] - 0s 21ms/step\n",
      "1/1 [==============================] - 0s 21ms/step\n",
      "1/1 [==============================] - 0s 25ms/step\n",
      "1/1 [==============================] - 0s 29ms/step\n",
      "1/1 [==============================] - 0s 26ms/step\n",
      "1/1 [==============================] - 0s 25ms/step\n",
      "1/1 [==============================] - 0s 25ms/step\n",
      "1/1 [==============================] - 0s 32ms/step\n",
      "1/1 [==============================] - 0s 29ms/step\n",
      "1/1 [==============================] - 0s 27ms/step\n",
      "1/1 [==============================] - 0s 24ms/step\n",
      "1/1 [==============================] - 0s 25ms/step\n",
      "1/1 [==============================] - 0s 23ms/step\n",
      "1/1 [==============================] - 0s 22ms/step\n",
      "1/1 [==============================] - 0s 21ms/step\n",
      "1/1 [==============================] - 0s 24ms/step\n",
      "1/1 [==============================] - 0s 28ms/step\n",
      "1/1 [==============================] - 0s 22ms/step\n",
      "1/1 [==============================] - 0s 24ms/step\n",
      "1/1 [==============================] - 0s 24ms/step\n",
      "1/1 [==============================] - 0s 22ms/step\n",
      "1/1 [==============================] - 0s 22ms/step\n",
      "1/1 [==============================] - 0s 22ms/step\n",
      "1/1 [==============================] - 0s 26ms/step\n",
      "1/1 [==============================] - 0s 24ms/step\n"
     ]
    }
   ],
   "source": [
    "text = complete_text(loaded_model,\"run\",n_chars = 100,temperature=1)"
   ]
  },
  {
   "cell_type": "code",
   "execution_count": 24,
   "id": "1b482ba8",
   "metadata": {
    "colab": {
     "base_uri": "https://localhost:8080/"
    },
    "executionInfo": {
     "elapsed": 18,
     "status": "ok",
     "timestamp": 1679968786624,
     "user": {
      "displayName": "Ismail Alabdali",
      "userId": "00595816703033863117"
     },
     "user_tz": 240
    },
    "id": "OKT6k1b1FAhU",
    "outputId": "9d3dd278-3e96-4edd-d714-6745e8b49eb5"
   },
   "outputs": [
    {
     "name": "stdout",
     "output_type": "stream",
     "text": [
      "rund\n",
      "betution, the great at the seasel like a create\n",
      "to wome glesting here!\n",
      "\n",
      "caliban:\n",
      "foul this island;\n"
     ]
    }
   ],
   "source": [
    "print(text)"
   ]
  },
  {
   "cell_type": "code",
   "execution_count": 36,
   "id": "06cc34d8",
   "metadata": {
    "colab": {
     "base_uri": "https://localhost:8080/"
    },
    "executionInfo": {
     "elapsed": 4,
     "status": "ok",
     "timestamp": 1679969218594,
     "user": {
      "displayName": "Ismail Alabdali",
      "userId": "00595816703033863117"
     },
     "user_tz": 240
    },
    "id": "ATzV7J8vG3ml",
    "outputId": "71284b96-2e99-44fb-9df2-a1839c72a736"
   },
   "outputs": [
    {
     "name": "stdout",
     "output_type": "stream",
     "text": [
      "{'verbose': 1, 'epochs': 1, 'steps': 1}\n"
     ]
    }
   ],
   "source": [
    "print(loaded_model.history.params)"
   ]
  },
  {
   "cell_type": "code",
   "execution_count": 80,
   "id": "fde11917",
   "metadata": {
    "colab": {
     "base_uri": "https://localhost:8080/",
     "height": 169
    },
    "executionInfo": {
     "elapsed": 203,
     "status": "error",
     "timestamp": 1679972485615,
     "user": {
      "displayName": "Ismail Alabdali",
      "userId": "00595816703033863117"
     },
     "user_tz": 240
    },
    "id": "9Wnb9Igo8g0g",
    "outputId": "2b6ba84b-6666-45f1-c004-7bf677aa6ff1"
   },
   "outputs": [
    {
     "ename": "TypeError",
     "evalue": "ignored",
     "output_type": "error",
     "traceback": [
      "\u001b[0;31m---------------------------------------------------------------------------\u001b[0m",
      "\u001b[0;31mTypeError\u001b[0m                                 Traceback (most recent call last)",
      "\u001b[0;32m<ipython-input-80-d8bd133e9f05>\u001b[0m in \u001b[0;36m<module>\u001b[0;34m\u001b[0m\n\u001b[0;32m----> 1\u001b[0;31m \u001b[0mloaded_model\u001b[0m\u001b[0;34m.\u001b[0m\u001b[0mhistory\u001b[0m\u001b[0;34m[\u001b[0m\u001b[0;34m\"loss\"\u001b[0m\u001b[0;34m]\u001b[0m\u001b[0;34m\u001b[0m\u001b[0;34m\u001b[0m\u001b[0m\n\u001b[0m",
      "\u001b[0;31mTypeError\u001b[0m: 'History' object is not subscriptable"
     ]
    }
   ],
   "source": [
    "loaded_model.history[\"loss\"]"
   ]
  },
  {
   "cell_type": "markdown",
   "id": "2d705101",
   "metadata": {
    "id": "gV-p5xurKcae"
   },
   "source": [
    "### running all the code together"
   ]
  },
  {
   "cell_type": "code",
   "execution_count": 2,
   "id": "9f15baef",
   "metadata": {},
   "outputs": [
    {
     "name": "stdout",
     "output_type": "stream",
     "text": [
      "(32, 100, 39) (32, 100)\n",
      "Epoch 1/5\n",
      "     44/Unknown - 15s 169ms/step - loss: 3.1965"
     ]
    },
    {
     "ename": "KeyboardInterrupt",
     "evalue": "",
     "output_type": "error",
     "traceback": [
      "\u001b[1;31m---------------------------------------------------------------------------\u001b[0m",
      "\u001b[1;31mKeyboardInterrupt\u001b[0m                         Traceback (most recent call last)",
      "Cell \u001b[1;32mIn[2], line 154\u001b[0m\n\u001b[0;32m    150\u001b[0m   model\u001b[38;5;241m.\u001b[39msave(filepath)\n\u001b[0;32m    152\u001b[0m   \u001b[38;5;28;01mreturn\u001b[39;00m model\n\u001b[1;32m--> 154\u001b[0m Shakespear_RNN \u001b[38;5;241m=\u001b[39m \u001b[43mfit_shackspear_rnn\u001b[49m\u001b[43m(\u001b[49m\u001b[43mdataset\u001b[49m\u001b[43m,\u001b[49m\u001b[43mn_epochs\u001b[49m\u001b[38;5;241;43m=\u001b[39;49m\u001b[38;5;241;43m5\u001b[39;49m\u001b[43m)\u001b[49m\n\u001b[0;32m    157\u001b[0m \u001b[38;5;66;03m# save the model\u001b[39;00m\n\u001b[0;32m    158\u001b[0m Shakespear_RNN\u001b[38;5;241m.\u001b[39msave(path)\n",
      "Cell \u001b[1;32mIn[2], line 147\u001b[0m, in \u001b[0;36mfit_shackspear_rnn\u001b[1;34m(dataset, num_hidden_neruons, n_epochs, filepath)\u001b[0m\n\u001b[0;32m    144\u001b[0m model\u001b[38;5;241m.\u001b[39mcompile(loss \u001b[38;5;241m=\u001b[39m \u001b[38;5;124m\"\u001b[39m\u001b[38;5;124msparse_categorical_crossentropy\u001b[39m\u001b[38;5;124m\"\u001b[39m, optimizer \u001b[38;5;241m=\u001b[39m \u001b[38;5;124m\"\u001b[39m\u001b[38;5;124madam\u001b[39m\u001b[38;5;124m\"\u001b[39m)\n\u001b[0;32m    146\u001b[0m \u001b[38;5;66;03m# fit the the model\u001b[39;00m\n\u001b[1;32m--> 147\u001b[0m \u001b[43mmodel\u001b[49m\u001b[38;5;241;43m.\u001b[39;49m\u001b[43mfit\u001b[49m\u001b[43m(\u001b[49m\u001b[43mdataset\u001b[49m\u001b[43m,\u001b[49m\u001b[43mepochs\u001b[49m\u001b[43m \u001b[49m\u001b[38;5;241;43m=\u001b[39;49m\u001b[43m \u001b[49m\u001b[43mn_epochs\u001b[49m\u001b[43m)\u001b[49m\n\u001b[0;32m    149\u001b[0m \u001b[38;5;66;03m# save the model. \u001b[39;00m\n\u001b[0;32m    150\u001b[0m model\u001b[38;5;241m.\u001b[39msave(filepath)\n",
      "File \u001b[1;32m~\\Desktop\\Spring 2023\\CS460G\\project3\\project_3_env\\lib\\site-packages\\keras\\utils\\traceback_utils.py:65\u001b[0m, in \u001b[0;36mfilter_traceback.<locals>.error_handler\u001b[1;34m(*args, **kwargs)\u001b[0m\n\u001b[0;32m     63\u001b[0m filtered_tb \u001b[38;5;241m=\u001b[39m \u001b[38;5;28;01mNone\u001b[39;00m\n\u001b[0;32m     64\u001b[0m \u001b[38;5;28;01mtry\u001b[39;00m:\n\u001b[1;32m---> 65\u001b[0m     \u001b[38;5;28;01mreturn\u001b[39;00m fn(\u001b[38;5;241m*\u001b[39margs, \u001b[38;5;241m*\u001b[39m\u001b[38;5;241m*\u001b[39mkwargs)\n\u001b[0;32m     66\u001b[0m \u001b[38;5;28;01mexcept\u001b[39;00m \u001b[38;5;167;01mException\u001b[39;00m \u001b[38;5;28;01mas\u001b[39;00m e:\n\u001b[0;32m     67\u001b[0m     filtered_tb \u001b[38;5;241m=\u001b[39m _process_traceback_frames(e\u001b[38;5;241m.\u001b[39m__traceback__)\n",
      "File \u001b[1;32m~\\Desktop\\Spring 2023\\CS460G\\project3\\project_3_env\\lib\\site-packages\\keras\\engine\\training.py:1564\u001b[0m, in \u001b[0;36mModel.fit\u001b[1;34m(self, x, y, batch_size, epochs, verbose, callbacks, validation_split, validation_data, shuffle, class_weight, sample_weight, initial_epoch, steps_per_epoch, validation_steps, validation_batch_size, validation_freq, max_queue_size, workers, use_multiprocessing)\u001b[0m\n\u001b[0;32m   1556\u001b[0m \u001b[38;5;28;01mwith\u001b[39;00m tf\u001b[38;5;241m.\u001b[39mprofiler\u001b[38;5;241m.\u001b[39mexperimental\u001b[38;5;241m.\u001b[39mTrace(\n\u001b[0;32m   1557\u001b[0m     \u001b[38;5;124m\"\u001b[39m\u001b[38;5;124mtrain\u001b[39m\u001b[38;5;124m\"\u001b[39m,\n\u001b[0;32m   1558\u001b[0m     epoch_num\u001b[38;5;241m=\u001b[39mepoch,\n\u001b[1;32m   (...)\u001b[0m\n\u001b[0;32m   1561\u001b[0m     _r\u001b[38;5;241m=\u001b[39m\u001b[38;5;241m1\u001b[39m,\n\u001b[0;32m   1562\u001b[0m ):\n\u001b[0;32m   1563\u001b[0m     callbacks\u001b[38;5;241m.\u001b[39mon_train_batch_begin(step)\n\u001b[1;32m-> 1564\u001b[0m     tmp_logs \u001b[38;5;241m=\u001b[39m \u001b[38;5;28;43mself\u001b[39;49m\u001b[38;5;241;43m.\u001b[39;49m\u001b[43mtrain_function\u001b[49m\u001b[43m(\u001b[49m\u001b[43miterator\u001b[49m\u001b[43m)\u001b[49m\n\u001b[0;32m   1565\u001b[0m     \u001b[38;5;28;01mif\u001b[39;00m data_handler\u001b[38;5;241m.\u001b[39mshould_sync:\n\u001b[0;32m   1566\u001b[0m         context\u001b[38;5;241m.\u001b[39masync_wait()\n",
      "File \u001b[1;32m~\\Desktop\\Spring 2023\\CS460G\\project3\\project_3_env\\lib\\site-packages\\tensorflow\\python\\util\\traceback_utils.py:150\u001b[0m, in \u001b[0;36mfilter_traceback.<locals>.error_handler\u001b[1;34m(*args, **kwargs)\u001b[0m\n\u001b[0;32m    148\u001b[0m filtered_tb \u001b[38;5;241m=\u001b[39m \u001b[38;5;28;01mNone\u001b[39;00m\n\u001b[0;32m    149\u001b[0m \u001b[38;5;28;01mtry\u001b[39;00m:\n\u001b[1;32m--> 150\u001b[0m   \u001b[38;5;28;01mreturn\u001b[39;00m fn(\u001b[38;5;241m*\u001b[39margs, \u001b[38;5;241m*\u001b[39m\u001b[38;5;241m*\u001b[39mkwargs)\n\u001b[0;32m    151\u001b[0m \u001b[38;5;28;01mexcept\u001b[39;00m \u001b[38;5;167;01mException\u001b[39;00m \u001b[38;5;28;01mas\u001b[39;00m e:\n\u001b[0;32m    152\u001b[0m   filtered_tb \u001b[38;5;241m=\u001b[39m _process_traceback_frames(e\u001b[38;5;241m.\u001b[39m__traceback__)\n",
      "File \u001b[1;32m~\\Desktop\\Spring 2023\\CS460G\\project3\\project_3_env\\lib\\site-packages\\tensorflow\\python\\eager\\def_function.py:915\u001b[0m, in \u001b[0;36mFunction.__call__\u001b[1;34m(self, *args, **kwds)\u001b[0m\n\u001b[0;32m    912\u001b[0m compiler \u001b[38;5;241m=\u001b[39m \u001b[38;5;124m\"\u001b[39m\u001b[38;5;124mxla\u001b[39m\u001b[38;5;124m\"\u001b[39m \u001b[38;5;28;01mif\u001b[39;00m \u001b[38;5;28mself\u001b[39m\u001b[38;5;241m.\u001b[39m_jit_compile \u001b[38;5;28;01melse\u001b[39;00m \u001b[38;5;124m\"\u001b[39m\u001b[38;5;124mnonXla\u001b[39m\u001b[38;5;124m\"\u001b[39m\n\u001b[0;32m    914\u001b[0m \u001b[38;5;28;01mwith\u001b[39;00m OptionalXlaContext(\u001b[38;5;28mself\u001b[39m\u001b[38;5;241m.\u001b[39m_jit_compile):\n\u001b[1;32m--> 915\u001b[0m   result \u001b[38;5;241m=\u001b[39m \u001b[38;5;28mself\u001b[39m\u001b[38;5;241m.\u001b[39m_call(\u001b[38;5;241m*\u001b[39margs, \u001b[38;5;241m*\u001b[39m\u001b[38;5;241m*\u001b[39mkwds)\n\u001b[0;32m    917\u001b[0m new_tracing_count \u001b[38;5;241m=\u001b[39m \u001b[38;5;28mself\u001b[39m\u001b[38;5;241m.\u001b[39mexperimental_get_tracing_count()\n\u001b[0;32m    918\u001b[0m without_tracing \u001b[38;5;241m=\u001b[39m (tracing_count \u001b[38;5;241m==\u001b[39m new_tracing_count)\n",
      "File \u001b[1;32m~\\Desktop\\Spring 2023\\CS460G\\project3\\project_3_env\\lib\\site-packages\\tensorflow\\python\\eager\\def_function.py:947\u001b[0m, in \u001b[0;36mFunction._call\u001b[1;34m(self, *args, **kwds)\u001b[0m\n\u001b[0;32m    944\u001b[0m   \u001b[38;5;28mself\u001b[39m\u001b[38;5;241m.\u001b[39m_lock\u001b[38;5;241m.\u001b[39mrelease()\n\u001b[0;32m    945\u001b[0m   \u001b[38;5;66;03m# In this case we have created variables on the first call, so we run the\u001b[39;00m\n\u001b[0;32m    946\u001b[0m   \u001b[38;5;66;03m# defunned version which is guaranteed to never create variables.\u001b[39;00m\n\u001b[1;32m--> 947\u001b[0m   \u001b[38;5;28;01mreturn\u001b[39;00m \u001b[38;5;28mself\u001b[39m\u001b[38;5;241m.\u001b[39m_stateless_fn(\u001b[38;5;241m*\u001b[39margs, \u001b[38;5;241m*\u001b[39m\u001b[38;5;241m*\u001b[39mkwds)  \u001b[38;5;66;03m# pylint: disable=not-callable\u001b[39;00m\n\u001b[0;32m    948\u001b[0m \u001b[38;5;28;01melif\u001b[39;00m \u001b[38;5;28mself\u001b[39m\u001b[38;5;241m.\u001b[39m_stateful_fn \u001b[38;5;129;01mis\u001b[39;00m \u001b[38;5;129;01mnot\u001b[39;00m \u001b[38;5;28;01mNone\u001b[39;00m:\n\u001b[0;32m    949\u001b[0m   \u001b[38;5;66;03m# Release the lock early so that multiple threads can perform the call\u001b[39;00m\n\u001b[0;32m    950\u001b[0m   \u001b[38;5;66;03m# in parallel.\u001b[39;00m\n\u001b[0;32m    951\u001b[0m   \u001b[38;5;28mself\u001b[39m\u001b[38;5;241m.\u001b[39m_lock\u001b[38;5;241m.\u001b[39mrelease()\n",
      "File \u001b[1;32m~\\Desktop\\Spring 2023\\CS460G\\project3\\project_3_env\\lib\\site-packages\\tensorflow\\python\\eager\\function.py:2496\u001b[0m, in \u001b[0;36mFunction.__call__\u001b[1;34m(self, *args, **kwargs)\u001b[0m\n\u001b[0;32m   2493\u001b[0m \u001b[38;5;28;01mwith\u001b[39;00m \u001b[38;5;28mself\u001b[39m\u001b[38;5;241m.\u001b[39m_lock:\n\u001b[0;32m   2494\u001b[0m   (graph_function,\n\u001b[0;32m   2495\u001b[0m    filtered_flat_args) \u001b[38;5;241m=\u001b[39m \u001b[38;5;28mself\u001b[39m\u001b[38;5;241m.\u001b[39m_maybe_define_function(args, kwargs)\n\u001b[1;32m-> 2496\u001b[0m \u001b[38;5;28;01mreturn\u001b[39;00m \u001b[43mgraph_function\u001b[49m\u001b[38;5;241;43m.\u001b[39;49m\u001b[43m_call_flat\u001b[49m\u001b[43m(\u001b[49m\n\u001b[0;32m   2497\u001b[0m \u001b[43m    \u001b[49m\u001b[43mfiltered_flat_args\u001b[49m\u001b[43m,\u001b[49m\u001b[43m \u001b[49m\u001b[43mcaptured_inputs\u001b[49m\u001b[38;5;241;43m=\u001b[39;49m\u001b[43mgraph_function\u001b[49m\u001b[38;5;241;43m.\u001b[39;49m\u001b[43mcaptured_inputs\u001b[49m\u001b[43m)\u001b[49m\n",
      "File \u001b[1;32m~\\Desktop\\Spring 2023\\CS460G\\project3\\project_3_env\\lib\\site-packages\\tensorflow\\python\\eager\\function.py:1862\u001b[0m, in \u001b[0;36mConcreteFunction._call_flat\u001b[1;34m(self, args, captured_inputs, cancellation_manager)\u001b[0m\n\u001b[0;32m   1858\u001b[0m possible_gradient_type \u001b[38;5;241m=\u001b[39m gradients_util\u001b[38;5;241m.\u001b[39mPossibleTapeGradientTypes(args)\n\u001b[0;32m   1859\u001b[0m \u001b[38;5;28;01mif\u001b[39;00m (possible_gradient_type \u001b[38;5;241m==\u001b[39m gradients_util\u001b[38;5;241m.\u001b[39mPOSSIBLE_GRADIENT_TYPES_NONE\n\u001b[0;32m   1860\u001b[0m     \u001b[38;5;129;01mand\u001b[39;00m executing_eagerly):\n\u001b[0;32m   1861\u001b[0m   \u001b[38;5;66;03m# No tape is watching; skip to running the function.\u001b[39;00m\n\u001b[1;32m-> 1862\u001b[0m   \u001b[38;5;28;01mreturn\u001b[39;00m \u001b[38;5;28mself\u001b[39m\u001b[38;5;241m.\u001b[39m_build_call_outputs(\u001b[38;5;28;43mself\u001b[39;49m\u001b[38;5;241;43m.\u001b[39;49m\u001b[43m_inference_function\u001b[49m\u001b[38;5;241;43m.\u001b[39;49m\u001b[43mcall\u001b[49m\u001b[43m(\u001b[49m\n\u001b[0;32m   1863\u001b[0m \u001b[43m      \u001b[49m\u001b[43mctx\u001b[49m\u001b[43m,\u001b[49m\u001b[43m \u001b[49m\u001b[43margs\u001b[49m\u001b[43m,\u001b[49m\u001b[43m \u001b[49m\u001b[43mcancellation_manager\u001b[49m\u001b[38;5;241;43m=\u001b[39;49m\u001b[43mcancellation_manager\u001b[49m\u001b[43m)\u001b[49m)\n\u001b[0;32m   1864\u001b[0m forward_backward \u001b[38;5;241m=\u001b[39m \u001b[38;5;28mself\u001b[39m\u001b[38;5;241m.\u001b[39m_select_forward_and_backward_functions(\n\u001b[0;32m   1865\u001b[0m     args,\n\u001b[0;32m   1866\u001b[0m     possible_gradient_type,\n\u001b[0;32m   1867\u001b[0m     executing_eagerly)\n\u001b[0;32m   1868\u001b[0m forward_function, args_with_tangents \u001b[38;5;241m=\u001b[39m forward_backward\u001b[38;5;241m.\u001b[39mforward()\n",
      "File \u001b[1;32m~\\Desktop\\Spring 2023\\CS460G\\project3\\project_3_env\\lib\\site-packages\\tensorflow\\python\\eager\\function.py:499\u001b[0m, in \u001b[0;36m_EagerDefinedFunction.call\u001b[1;34m(self, ctx, args, cancellation_manager)\u001b[0m\n\u001b[0;32m    497\u001b[0m \u001b[38;5;28;01mwith\u001b[39;00m _InterpolateFunctionError(\u001b[38;5;28mself\u001b[39m):\n\u001b[0;32m    498\u001b[0m   \u001b[38;5;28;01mif\u001b[39;00m cancellation_manager \u001b[38;5;129;01mis\u001b[39;00m \u001b[38;5;28;01mNone\u001b[39;00m:\n\u001b[1;32m--> 499\u001b[0m     outputs \u001b[38;5;241m=\u001b[39m \u001b[43mexecute\u001b[49m\u001b[38;5;241;43m.\u001b[39;49m\u001b[43mexecute\u001b[49m\u001b[43m(\u001b[49m\n\u001b[0;32m    500\u001b[0m \u001b[43m        \u001b[49m\u001b[38;5;28;43mstr\u001b[39;49m\u001b[43m(\u001b[49m\u001b[38;5;28;43mself\u001b[39;49m\u001b[38;5;241;43m.\u001b[39;49m\u001b[43msignature\u001b[49m\u001b[38;5;241;43m.\u001b[39;49m\u001b[43mname\u001b[49m\u001b[43m)\u001b[49m\u001b[43m,\u001b[49m\n\u001b[0;32m    501\u001b[0m \u001b[43m        \u001b[49m\u001b[43mnum_outputs\u001b[49m\u001b[38;5;241;43m=\u001b[39;49m\u001b[38;5;28;43mself\u001b[39;49m\u001b[38;5;241;43m.\u001b[39;49m\u001b[43m_num_outputs\u001b[49m\u001b[43m,\u001b[49m\n\u001b[0;32m    502\u001b[0m \u001b[43m        \u001b[49m\u001b[43minputs\u001b[49m\u001b[38;5;241;43m=\u001b[39;49m\u001b[43margs\u001b[49m\u001b[43m,\u001b[49m\n\u001b[0;32m    503\u001b[0m \u001b[43m        \u001b[49m\u001b[43mattrs\u001b[49m\u001b[38;5;241;43m=\u001b[39;49m\u001b[43mattrs\u001b[49m\u001b[43m,\u001b[49m\n\u001b[0;32m    504\u001b[0m \u001b[43m        \u001b[49m\u001b[43mctx\u001b[49m\u001b[38;5;241;43m=\u001b[39;49m\u001b[43mctx\u001b[49m\u001b[43m)\u001b[49m\n\u001b[0;32m    505\u001b[0m   \u001b[38;5;28;01melse\u001b[39;00m:\n\u001b[0;32m    506\u001b[0m     outputs \u001b[38;5;241m=\u001b[39m execute\u001b[38;5;241m.\u001b[39mexecute_with_cancellation(\n\u001b[0;32m    507\u001b[0m         \u001b[38;5;28mstr\u001b[39m(\u001b[38;5;28mself\u001b[39m\u001b[38;5;241m.\u001b[39msignature\u001b[38;5;241m.\u001b[39mname),\n\u001b[0;32m    508\u001b[0m         num_outputs\u001b[38;5;241m=\u001b[39m\u001b[38;5;28mself\u001b[39m\u001b[38;5;241m.\u001b[39m_num_outputs,\n\u001b[1;32m   (...)\u001b[0m\n\u001b[0;32m    511\u001b[0m         ctx\u001b[38;5;241m=\u001b[39mctx,\n\u001b[0;32m    512\u001b[0m         cancellation_manager\u001b[38;5;241m=\u001b[39mcancellation_manager)\n",
      "File \u001b[1;32m~\\Desktop\\Spring 2023\\CS460G\\project3\\project_3_env\\lib\\site-packages\\tensorflow\\python\\eager\\execute.py:54\u001b[0m, in \u001b[0;36mquick_execute\u001b[1;34m(op_name, num_outputs, inputs, attrs, ctx, name)\u001b[0m\n\u001b[0;32m     52\u001b[0m \u001b[38;5;28;01mtry\u001b[39;00m:\n\u001b[0;32m     53\u001b[0m   ctx\u001b[38;5;241m.\u001b[39mensure_initialized()\n\u001b[1;32m---> 54\u001b[0m   tensors \u001b[38;5;241m=\u001b[39m \u001b[43mpywrap_tfe\u001b[49m\u001b[38;5;241;43m.\u001b[39;49m\u001b[43mTFE_Py_Execute\u001b[49m\u001b[43m(\u001b[49m\u001b[43mctx\u001b[49m\u001b[38;5;241;43m.\u001b[39;49m\u001b[43m_handle\u001b[49m\u001b[43m,\u001b[49m\u001b[43m \u001b[49m\u001b[43mdevice_name\u001b[49m\u001b[43m,\u001b[49m\u001b[43m \u001b[49m\u001b[43mop_name\u001b[49m\u001b[43m,\u001b[49m\n\u001b[0;32m     55\u001b[0m \u001b[43m                                      \u001b[49m\u001b[43minputs\u001b[49m\u001b[43m,\u001b[49m\u001b[43m \u001b[49m\u001b[43mattrs\u001b[49m\u001b[43m,\u001b[49m\u001b[43m \u001b[49m\u001b[43mnum_outputs\u001b[49m\u001b[43m)\u001b[49m\n\u001b[0;32m     56\u001b[0m \u001b[38;5;28;01mexcept\u001b[39;00m core\u001b[38;5;241m.\u001b[39m_NotOkStatusException \u001b[38;5;28;01mas\u001b[39;00m e:\n\u001b[0;32m     57\u001b[0m   \u001b[38;5;28;01mif\u001b[39;00m name \u001b[38;5;129;01mis\u001b[39;00m \u001b[38;5;129;01mnot\u001b[39;00m \u001b[38;5;28;01mNone\u001b[39;00m:\n",
      "\u001b[1;31mKeyboardInterrupt\u001b[0m: "
     ]
    }
   ],
   "source": [
    "# -*- coding: utf-8 -*-\n",
    "\"\"\"char_rnn_shackspear.ipynb\n",
    "\n",
    "Automatically generated by Colaboratory.\n",
    "\n",
    "Original file is located at open it with Co lab notebook\n",
    "    https://drive.google.com/file/d/1d8cjgVj7H297jaWzbrDM7kX26nuCofoy/view?usp=sharing\n",
    "\n",
    "## imports\n",
    "\"\"\"\n",
    "\n",
    "import tensorflow as tf\n",
    "from tensorflow import keras\n",
    "import numpy as np\n",
    "import time\n",
    "\n",
    "\n",
    "\n",
    "# preproess the text into one-hot\n",
    "def preprocess(text):\n",
    "    tokenize =  np.array(tokenizer.texts_to_sequences(text)) - 1\n",
    "    return tf.one_hot(tokenize,max_id)\n",
    "\n",
    "# get next char \n",
    "def next_char(model,text, temperature = 1):\n",
    "    x_new = preprocess([text]) \n",
    "    y_proba = model.predict(x_new)[0,-1:,:] # get the probiliaty distrubtion for last char\n",
    "    rescaled_logits = tf.math.log(y_proba) / temperature # rescale the logithiem of predicted probs\n",
    "    char_id = tf.random.categorical(rescaled_logits,num_samples=1) + 1 # generates a single integer that corresponds to the predicted next char in the sequence\n",
    "    return tokenizer.sequences_to_texts(char_id.numpy())[0] # return the next predicted char\n",
    "\n",
    "# get the text of a number of char passing to it a certain char limits and temperature to control how conservaite or exploratory the model should be.\n",
    "def complete_text(model,text, n_chars = 50,temperature = 1):\n",
    "    for _ in range(n_chars):\n",
    "        text += next_char(model,text,temperature)\n",
    "    return text\n",
    "\n",
    "\n",
    "\n",
    "### This code was use in Co Lab notebook. Please look at the link above to access the notebook\n",
    "### Check if we have GPU\n",
    "\n",
    "# device_name = tf.test.gpu_device_name()\n",
    "# if device_name != '/device:GPU:0':\n",
    "#   raise SystemError('GPU device not found')\n",
    "# print('Found GPU at: {}'.format(device_name))\n",
    "\n",
    "# ### mount google drive\n",
    "\n",
    "# from google.colab import drive\n",
    "# drive.mount('/content/drive')\n",
    "\n",
    "\n",
    "\n",
    "\n",
    "\n",
    "\n",
    "## let's read the text file\n",
    "filepath = \"./tiny-shakespeare.txt\"\n",
    "with open(filepath) as file:\n",
    "    shake_text = file.read()\n",
    "\n",
    "#print(shake_text)\n",
    "\n",
    "# lets encode every characeter in the text using keras tokeninzer\n",
    "\n",
    "tokenizer = keras.preprocessing.text.Tokenizer(char_level = True) # char level true for Char-CNN\n",
    "tokenizer.fit_on_texts([shake_text])\n",
    "\n",
    "#tokenizer.get_config()\n",
    "\n",
    "# \"\"\"#### covert from seq to text and text to seq\"\"\"\n",
    "\n",
    "# tokenizer.texts_to_sequences([\"First\"])\n",
    "\n",
    "# tokenizer.sequences_to_texts([[20, 6, 9, 8, 3]])\n",
    "\n",
    "\n",
    "# now that we have tokenized the text, let's encode the full text so that each character represented by it's id\n",
    "[encoded] = np.array(tokenizer.texts_to_sequences([shake_text])) - 1 # substract one to get id's from 0-38 rather than 1-39\n",
    "\n",
    "max_id = np.max(encoded) + 1\n",
    "\n",
    "# in case we wanted to split our data.\n",
    "dataset_size = 100\n",
    "train_size = len(encoded) * dataset_size // 100\n",
    "\n",
    "# we use 100% of the data for training. \n",
    "dataset = tf.data.Dataset.from_tensor_slices(encoded[:train_size])\n",
    "\n",
    "## now that we have got our train dataset, let's chop our data into windows\n",
    "\n",
    "# lets used the data windows method to convert the the long sequence of chars into smaller once\n",
    "n_steps = 100\n",
    "window_length = n_steps + 1 # the windows length would be 101\n",
    "dataset = dataset.window(window_length,shift = 1,drop_remainder=True) # creates nonoverlapping windows in our dataset such that\n",
    "# they go from 0-100 .. 1-101 .. 2-102\n",
    "\n",
    "# now let's convert the nested dataset into flat dataset\n",
    "dataset = dataset.flat_map(lambda window: window.batch(window_length))\n",
    "\n",
    "# make a random seed\n",
    "np.random.seed(42)\n",
    "tf.random.set_seed(42)\n",
    "\n",
    "# lets use batches and batch our data\n",
    "batch_size = 32\n",
    "# shuffle the windows and put it in batches\n",
    "dataset = dataset.shuffle(10000).batch(batch_size)\n",
    "# put the sequence into input sequence , and target.  \n",
    "dataset = dataset.map(lambda windows : (windows[:,:-1], windows[:,1:]))\n",
    "\n",
    "# lets convert our data to one-hot\n",
    "dataset = dataset.map(lambda X_batch, Y_batch : (tf.one_hot(X_batch,depth = max_id), Y_batch))\n",
    "# add prefitching so that we can overlap the data to imporve training performace\n",
    "dataset = dataset.prefetch(1)\n",
    "\n",
    "# for e in dataset.take(3):\n",
    "#     print(e)\n",
    "\n",
    "# example shapes output for X_batch and Y_batch\n",
    "for X_batch,Y_batch in dataset.take(1):\n",
    "    print(X_batch.shape,Y_batch.shape)\n",
    "\n",
    "\"\"\"## lets train our model\"\"\"\n",
    "\n",
    "\n",
    "timestr = time.strftime(\"%Y%m%d-%H%M%S\")\n",
    "\n",
    "num_hidden_neruons = 128\n",
    "n_epochs = 5\n",
    "path = f\"./project3_rnn_ep_{n_epochs}_{num_hidden_neruons}_2H_{timestr}\"\n",
    "\n",
    "# define the RNN model\n",
    "def fit_shackspear_rnn(dataset,num_hidden_neruons = num_hidden_neruons,n_epochs = n_epochs,filepath = path):\n",
    "  # use TF Sequential API and make two hidden layers for the RNN. for Output layer use softmax activation.\n",
    "  model = keras.models.Sequential([\n",
    "    keras.layers.GRU(num_hidden_neruons,return_sequences=True,input_shape = [None, max_id]),\n",
    "    keras.layers.GRU(num_hidden_neruons,return_sequences = True),\n",
    "    keras.layers.TimeDistributed(keras.layers.Dense(max_id,activation=\"softmax\"))\n",
    "  ])\n",
    "  # compile the model with a loss sparse_categorical_crossentropy and adam optimizer\n",
    "\n",
    "  model.compile(loss = \"sparse_categorical_crossentropy\", optimizer = \"adam\")\n",
    "\n",
    "  # fit the the model\n",
    "  model.fit(dataset,epochs = n_epochs)\n",
    "\n",
    "  # save the model. \n",
    "  model.save(filepath)\n",
    "\n",
    "  return model\n",
    "\n",
    "Shakespear_RNN = fit_shackspear_rnn(dataset,n_epochs=5)\n",
    "\n",
    "\n",
    "# save the model\n",
    "Shakespear_RNN.save(path)\n",
    "\n",
    "\n",
    "\n",
    "### Loss:\n",
    "loss_history = Shakespear_RNN.history.history[\"loss\"]\n",
    "# print tht loss average\n",
    "avg_loss = np.mean(loss_history)\n",
    "print(f\"Average Loss is {round(avg_loss,4)}\")\n",
    "\n",
    "\n",
    "## let's predict what our model learned.\n",
    "\n",
    "\n",
    "texts_to_predict = [\"How are yo\", \"Oman\" , \"sleep\",\"Queen\", \"King\"] # tokens to test our model with\n",
    "outputs = [] # append the predictions \n",
    "\n",
    "\n",
    "### loading last trained model\n",
    "n_chars = 100\n",
    "for i in texts_to_predict:\n",
    "  outputs.append(complete_text(Shakespear_RNN,i,n_chars = n_chars, temperature=1))\n",
    "\n",
    "print(f\"The RNN will predict the next sequence of {n_chars} chars\")\n",
    "print(\"_\" * 50)\n",
    "for i in range(len(outputs)):\n",
    "  print(f\"input \\\"{texts_to_predict[i]}\\\" predictions is\")\n",
    "  print(outputs[i])\n",
    "  print(\"=\" * 50)\n"
   ]
  },
  {
   "cell_type": "code",
   "execution_count": null,
   "id": "09606553",
   "metadata": {},
   "outputs": [],
   "source": []
  }
 ],
 "metadata": {
  "accelerator": "GPU",
  "colab": {
   "name": "",
   "version": ""
  },
  "gpuClass": "standard",
  "kernelspec": {
   "display_name": "Python 3 (ipykernel)",
   "language": "python",
   "name": "python3"
  },
  "language_info": {
   "codemirror_mode": {
    "name": "ipython",
    "version": 3
   },
   "file_extension": ".py",
   "mimetype": "text/x-python",
   "name": "python",
   "nbconvert_exporter": "python",
   "pygments_lexer": "ipython3",
   "version": "3.10.10"
  }
 },
 "nbformat": 4,
 "nbformat_minor": 5
}
